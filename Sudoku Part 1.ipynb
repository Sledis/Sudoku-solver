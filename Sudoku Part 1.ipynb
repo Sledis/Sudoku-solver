{
 "cells": [
  {
   "cell_type": "code",
   "execution_count": 2,
   "metadata": {},
   "outputs": [],
   "source": [
    "import numpy as np\n",
    "import copy\n",
    "import time\n",
    "#Sudoku grids will be taken to be 9*9 numpy arrays with 0's for any unknown value.\n",
    "\n",
    "def Fill(S,I):\n",
    "    #A funciton that takes a 9*9 numpy array S and a vector I and in coordinate order fills the 0's in S\n",
    "    #with the elements of I until I is exhausted.\n",
    "    #It returns a grid with I filled in and the row and collumn value that was last filled in.\n",
    "    n=0\n",
    "    B=copy.deepcopy(S)\n",
    "    for i in range(9):\n",
    "        for j in range(9):\n",
    "            if n<len(I):\n",
    "                \n",
    "                if S[i,j]==0:\n",
    "                    \n",
    "                    B[i,j]=I[n]\n",
    "                    n=n+1\n",
    "                    a=i\n",
    "                    b=j\n",
    "                    \n",
    "            \n",
    "    return [B,a,b]"
   ]
  },
  {
   "cell_type": "code",
   "execution_count": 3,
   "metadata": {},
   "outputs": [],
   "source": [
    "def Check(A,I):\n",
    "    #This function takes a grid and an attempt vector I and checks if the latest value of I contradicts the rules of sudoku.\n",
    "    S=Fill(A,I)[0]\n",
    "    a=Fill(A,I)[1]\n",
    "    b=Fill(A,I)[2]\n",
    "    B=True\n",
    "    \n",
    "    Nums=[1,2,3,4,5,6,7,8,9]\n",
    "    \n",
    "    row=list(S[a,:])\n",
    "    collumn=list(S[:,b])\n",
    "    \n",
    "    alpha=int(np.floor(a/3))\n",
    "    beta=int(np.floor(b/3))\n",
    "    square=[S[3*alpha,3*beta],S[3*alpha,3*beta+1],S[3*alpha,3*beta+2],S[3*alpha+1,3*beta],S[3*alpha+1,3*beta+1],S[3*alpha+1,3*beta+2],S[3*alpha+2,3*beta],S[3*alpha+2,3*beta+1],S[3*alpha+2,3*beta+2]]\n",
    "\n",
    "    for x in Nums:\n",
    "        if row.count(x)>1:\n",
    "            B=False\n",
    " \n",
    "        if collumn.count(x)>1:\n",
    "            B=False\n",
    "           \n",
    "        if square.count(x)>1:\n",
    "            B=False\n",
    "         \n",
    "            \n",
    "    \n",
    "      \n",
    "    \n",
    "    return B"
   ]
  },
  {
   "cell_type": "code",
   "execution_count": 75,
   "metadata": {},
   "outputs": [],
   "source": [
    "def EasyValues(S):\n",
    "    #This takes a sudoku, looks through it to find the empty entries. It then calculates the values in the\n",
    "    #square, row and collumn, if it covers all buy one number, it fills that number in.\n",
    "    #It also counts how many changes are made.\n",
    "    Added=0\n",
    "    for i in range(9):\n",
    "        row=set(S[i,:])       \n",
    "        for j in range(9):  \n",
    "            Nums=set([0,1,2,3,4,5,6,7,8,9])\n",
    "            if S[i,j]==0:\n",
    "                collumn=set(S[:,j])\n",
    "                alpha=int(np.floor(i/3))\n",
    "                beta=int(np.floor(j/3))\n",
    "                square=set([S[3*alpha,3*beta],S[3*alpha,3*beta+1],S[3*alpha,3*beta+2],S[3*alpha+1,3*beta],S[3*alpha+1,3*beta+1],S[3*alpha+1,3*beta+2],S[3*alpha+2,3*beta],S[3*alpha+2,3*beta+1],S[3*alpha+2,3*beta+2]])\n",
    "                collumn.update(row)\n",
    "                collumn.update(square)\n",
    "                \n",
    "                Nums.difference_update(collumn)\n",
    "               \n",
    "                \n",
    "                if len(Nums)==1:\n",
    "                    S[i,j]=list(Nums)[0]\n",
    "                    Added+=1\n",
    "    return [S,Added]\n",
    "    "
   ]
  },
  {
   "cell_type": "code",
   "execution_count": 96,
   "metadata": {},
   "outputs": [],
   "source": [
    "def Solver(S):\n",
    "    #We first run through all of the \"human/easy\" solves. Once it can't find any more it will move on to a back tracking method.\n",
    "    A=EasyValues(S)\n",
    "    S=A[0]\n",
    "    counter=A[1]\n",
    "    while counter>0:\n",
    "        A=EasyValues(S)\n",
    "        S=A[0]\n",
    "        counter=A[1]\n",
    "        \n",
    "        \n",
    "        \n",
    "    B=copy.deepcopy(S)\n",
    "    n=(B==0).sum()\n",
    "    \n",
    "    if n>0:\n",
    "        #Solves a sudoku by creating a vector with 1, if it works it guesses the next value. if it doesn't,\n",
    "        #it tries all values for that slot until one works, if that doesn't work it moves down one spot and repeats.\n",
    "        I=[1]\n",
    "        while len(I)<n:\n",
    "            if Check(S,I)==True:\n",
    "                I.append(1)\n",
    "            else:\n",
    "                if I[-1]!=9:\n",
    "                    I[-1]=I[-1]+1\n",
    "                else:\n",
    "                    j=-1\n",
    "\n",
    "                    while I[j]==9:\n",
    "                        j=j-1\n",
    "                    J=I[0:j+1]\n",
    "\n",
    "                    J[len(J)-1]+=1\n",
    "                    I=J\n",
    "\n",
    "        if len(I)==n:\n",
    "            while  Check(S,I) is False:\n",
    "                I[n-1]=I[n-1]+1\n",
    "\n",
    "        B=Fill(B,I)[0]\n",
    "        \n",
    "    return B"
   ]
  },
  {
   "cell_type": "code",
   "execution_count": 97,
   "metadata": {},
   "outputs": [
    {
     "data": {
      "text/plain": [
       "array([[3, 2, 0, 6, 0, 9, 0, 8, 0],\n",
       "       [0, 0, 0, 0, 8, 0, 1, 0, 0],\n",
       "       [0, 8, 5, 0, 0, 4, 0, 9, 2],\n",
       "       [0, 0, 8, 4, 0, 7, 0, 1, 0],\n",
       "       [2, 0, 1, 0, 0, 5, 0, 0, 0],\n",
       "       [5, 0, 0, 1, 0, 6, 9, 7, 0],\n",
       "       [4, 0, 0, 0, 0, 8, 0, 6, 3],\n",
       "       [6, 0, 9, 0, 0, 0, 0, 2, 0],\n",
       "       [0, 0, 7, 0, 6, 1, 0, 5, 9]])"
      ]
     },
     "execution_count": 97,
     "metadata": {},
     "output_type": "execute_result"
    }
   ],
   "source": [
    "#4 sudokus.\n",
    "A1=np.array([[3,2,0,6,0,9,0,8,0],[0,0,0,0,8,0,1,0,0],[0,8,5,0,0,4,0,9,2],[0,0,8,4,0,7,0,1,0],[2,0,1,0,0,5,0,0,0],[5,0,0,1,0,6,9,7,0],[4,0,0,0,0,8,0,6,3],[6,0,9,0,0,0,0,2,0],[0,0,7,0,6,1,0,5,9]])\n",
    "A2=np.array([[0,7,0,5,0,0,2,3,0],[0,8,0,0,9,0,5,0,0],[5,0,0,0,0,7,0,6,4],[2,0,0,0,3,0,0,0,5],[0,0,0,9,4,8,0,0,0],[4,0,0,0,7,0,0,0,3],[7,2,0,4,0,0,0,0,1],[0,0,1,0,5,0,0,8,0],[0,5,6,0,0,3,0,7,0]])\n",
    "A3=A=np.array([[0,1,3,0,0,7,0,0,2],[0,0,0,0,3,0,0,0,8],[0,4,0,0,0,2,0,0,0],[0,0,9,2,0,1,0,7,5],[0,0,0,0,0,0,0,0,0],[7,8,0,4,0,9,6,0,0],[0,0,0,9,0,0,0,6,0],[8,0,0,0,6,0,0,0,0],[1,0,0,7,0,0,3,9,0]])\n",
    "A4=A=np.array([[0,0,3,0,0,0,4,5,0],[9,0,0,0,0,0,0,0,0],[7,2,0,6,0,0,0,0,9],[5,0,0,0,8,4,0,0,2],[0,0,0,1,0,2,0,0,0],[4,0,0,3,6,0,0,0,8],[8,0,0,0,0,6,0,3,7],[0,0,0,0,0,0,0,0,4],[0,7,4,0,0,0,2,0,0]])\n",
    "\n",
    "A1"
   ]
  },
  {
   "cell_type": "code",
   "execution_count": 98,
   "metadata": {},
   "outputs": [
    {
     "name": "stdout",
     "output_type": "stream",
     "text": [
      "0.001181128000098397 0.17780098200000793 1.133149346999744 1.8751900839997688\n"
     ]
    }
   ],
   "source": [
    "t1=time.perf_counter()\n",
    "Solver(A1)\n",
    "t2=time.perf_counter()\n",
    "Dt1=t2-t1\n",
    "\n",
    "t1=time.perf_counter()\n",
    "Solver(A2)\n",
    "t2=time.perf_counter()\n",
    "Dt2=t2-t1\n",
    "\n",
    "t1=time.perf_counter()\n",
    "Solver(A3)\n",
    "t2=time.perf_counter()\n",
    "Dt3=t2-t1\n",
    "\n",
    "t1=time.perf_counter()\n",
    "Solver(A4)\n",
    "t2=time.perf_counter()\n",
    "Dt4=t2-t1\n",
    "#the time for solution of those 4 sudokus.\n",
    "print(Dt1,Dt2,Dt3,Dt4)"
   ]
  }
 ],
 "metadata": {
  "kernelspec": {
   "display_name": "Python 3",
   "language": "python",
   "name": "python3"
  },
  "language_info": {
   "codemirror_mode": {
    "name": "ipython",
    "version": 3
   },
   "file_extension": ".py",
   "mimetype": "text/x-python",
   "name": "python",
   "nbconvert_exporter": "python",
   "pygments_lexer": "ipython3",
   "version": "3.7.1"
  }
 },
 "nbformat": 4,
 "nbformat_minor": 2
}
